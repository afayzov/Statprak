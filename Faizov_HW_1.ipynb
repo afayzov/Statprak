{
 "cells": [
  {
   "cell_type": "markdown",
   "metadata": {
    "id": "sSos7q2_oBGj"
   },
   "source": [
    "## Problem 1"
   ]
  },
  {
   "cell_type": "markdown",
   "metadata": {
    "id": "NiX8ePp0oBGk"
   },
   "source": [
    "Make a tuple containing natural numbers, the square of which is a multiple of 3, 4, but not a multiple of 8 and not exceeding 12345."
   ]
  },
  {
   "cell_type": "code",
   "execution_count": 25,
   "metadata": {
    "id": "XmPHEnS9oBGk"
   },
   "outputs": [
    {
     "name": "stdout",
     "output_type": "stream",
     "text": [
      "(6, 18, 30, 42, 54, 66, 78, 90, 102)\n"
     ]
    }
   ],
   "source": [
    "from math import ceil, sqrt\n",
    "numbers = tuple(x for x in range(ceil(sqrt(12345))) if x**2%12==0 and x%4!=0)\n",
    "print(numbers)"
   ]
  },
  {
   "cell_type": "markdown",
   "metadata": {
    "id": "OZBeUyxcoBGk"
   },
   "source": [
    "## Problem 2"
   ]
  },
  {
   "cell_type": "markdown",
   "metadata": {
    "id": "zIfvg22noBGk"
   },
   "source": [
    "\n",
    "Write a function that takes a two-dimensional array and a string as input and returns an array rotated 90 degrees counterclockwise if the string 'left' was passed, and clockwise if the string 'right' was passed.\n",
    "\n",
    "Example for input: $\\begin{bmatrix} 1 & 2 & 3 \\\\ 4 & 5 & 6 \\\\ 7 & 8 & 9 \\end{bmatrix}$.\\\n",
    "If the string 'left' is passed, the function should return $\\begin{bmatrix} 3 & 6 & 9 \\\\ 2 & 5 & 8 \\\\ 1 & 4 & 7 \\end{bmatrix}$, and if the string 'right' is passed, the function should return $\\begin{bmatrix} 7 & 4 & 1 \\\\ 8 & 5 & 2 \\\\ 9 & 6 & 3 \\end{bmatrix}$."
   ]
  },
  {
   "cell_type": "code",
   "execution_count": 24,
   "metadata": {
    "id": "HNvy_cRjoBGk"
   },
   "outputs": [
    {
     "name": "stdout",
     "output_type": "stream",
     "text": [
      "\n",
      "input array rotated 'right':\n",
      "[7, 4, 1]\n",
      "[8, 5, 2]\n",
      "[9, 6, 3]\n",
      "\n",
      "input array rotated 'left':\n",
      "[3, 6, 9]\n",
      "[2, 5, 8]\n",
      "[1, 4, 7]\n"
     ]
    }
   ],
   "source": [
    "array_2d=[\n",
    "    [1,2,3],\n",
    "    [4,5,6],\n",
    "    [7,8,9]\n",
    "]\n",
    "\n",
    "def rotate_left(array:list):\n",
    "    return list(zip(*array))\n",
    "    \n",
    "def rotate_array(array:list, direction:str):\n",
    "    if direction==\"right\":\n",
    "        return rotate_left(array[::-1])\n",
    "    if direction==\"left\":\n",
    "        return rotate_left(array)[::-1]\n",
    "        \n",
    "def print_arr(arr:list, direction:str):\n",
    "    print(f\"\\ninput array rotated '{direction}':\")\n",
    "    for row in rotate_array(array_2d, direction):\n",
    "        print(list(row))\n",
    "    \n",
    "print_arr(array_2d, \"right\")\n",
    "print_arr(array_2d, \"left\")"
   ]
  },
  {
   "cell_type": "markdown",
   "metadata": {
    "id": "_dY-PFlCoBGk"
   },
   "source": [
    "## Problem 3"
   ]
  },
  {
   "cell_type": "markdown",
   "metadata": {
    "id": "3CaIwcm0oBGk"
   },
   "source": [
    "Write a function that takes a string as input and returns a dictionary containing the number of occurrences of each character in the string.\n",
    "\n",
    "Example for the string 'hello, world!': {'h': 1, 'e': 1, 'l': 3, 'o': 2, ',': 1, ' ': 1, 'w': 1, 'r': 1, 'd': 1, '!': 1}."
   ]
  },
  {
   "cell_type": "code",
   "execution_count": 18,
   "metadata": {
    "id": "rlSbHusZoBGk"
   },
   "outputs": [
    {
     "name": "stdout",
     "output_type": "stream",
     "text": [
      "dictionary containing the number of occurrences of each character in the string hello, world!:\n",
      "{'h': 1, 'e': 1, 'l': 3, 'o': 2, ',': 1, ' ': 1, 'w': 1, 'r': 1, 'd': 1, '!': 1}\n"
     ]
    }
   ],
   "source": [
    "sample_string=\"hello, world!\"\n",
    "\n",
    "def occurrences(string:str):\n",
    "    d=dict()\n",
    "    for x in string:\n",
    "        if x in d:\n",
    "            d.update({x:d.get(x)+1})\n",
    "        else:\n",
    "            d.update({x:1})\n",
    "    return d\n",
    "    \n",
    "def printer(string:str): \n",
    "    print(f\"dictionary containing the number of occurrences of each character in the string '{string}':\\n{occurrences(sample_string)}\")\n",
    "\n",
    "printer(sample_string)"
   ]
  },
  {
   "cell_type": "markdown",
   "metadata": {
    "id": "KBGJ7PeboBGk"
   },
   "source": [
    "## Problem 4"
   ]
  },
  {
   "cell_type": "markdown",
   "metadata": {
    "id": "XS4Seqa9oBGk"
   },
   "source": [
    "### Implementing a Library Management System\n",
    "\n",
    "#### Description\n",
    "\n",
    "You are required to design and implement a system for managing books and users in a library. The system should allow for the management of books (adding, deleting, searching by various criteria) and users (registration, deletion, searching), as well as tracking the history of interactions between them (issuing and returning books).\n",
    "\n",
    "#### Tasks\n",
    "\n",
    "1. **`Book` Class**:\n",
    "   - Attributes: title, author, year of publication, ISBN, number of copies.\n",
    "   - Methods: constructor, methods to get information about the book, method to change the number of copies (when issuing and returning books).\n",
    "\n",
    "2. **`User` Class**:\n",
    "   - Attributes: user name, library card number, list of borrowed books.\n",
    "   - Methods: constructor, methods for user registration, methods for adding and removing books from the borrowed list.\n",
    "\n",
    "3. **`Library` Class**:\n",
    "   - Attributes: list of books, list of users, transaction history (who, when, which book was borrowed and returned).\n",
    "   - Methods: constructor, methods for adding and deleting books and users, methods for issuing and returning books, searching for books and users by various criteria, method to display the transaction history.\n",
    "\n",
    "#### Assignment\n",
    "\n",
    "1. Implement the `Book`, `User`, and `Library` classes with the specified attributes and methods.\n",
    "2. Create several books and users, and add them to the library system.\n",
    "3. Implement scenarios for issuing books to users and their return.\n",
    "4. Display the transaction history to show how books were issued and returned.\n"
   ]
  },
  {
   "cell_type": "code",
   "execution_count": null,
   "metadata": {
    "id": "IbqwtWWsoBGl"
   },
   "outputs": [],
   "source": [
    "from datetime import datetime\n",
    "\n",
    "\n",
    "class Book:\n",
    "    def __init__(self, title: str, author: str, year_of_publication: int, isbn: str, number_of_copies: int):\n",
    "        self.title = title\n",
    "        self.author = author\n",
    "        self.year_of_publication = year_of_publication\n",
    "        self.isbn = isbn\n",
    "        self.number_of_copies = number_of_copies\n",
    "\n",
    "    def get_information_about_the_book(self):\n",
    "        return (f\"book {self.title} by {self.author}, published in {self.year_of_publication}\"\n",
    "                f\", number_of_copies: {self.number_of_copies}, ISBN: {self.isbn}\")\n",
    "\n",
    "    def change_the_number_of_copies(self, new_number_of_copies):\n",
    "        self.number_of_copies += new_number_of_copies\n",
    "\n",
    "    def __getattr__(self, item):\n",
    "        return False\n",
    "\n",
    "\n",
    "class User:\n",
    "    def __init__(self, user_name: str, library_card_number: int, list_of_borrowed_books: list[Book]):\n",
    "        self.user_name = user_name\n",
    "        self.library_card_number = library_card_number\n",
    "        self.list_of_borrowed_books = list_of_borrowed_books\n",
    "\n",
    "    def user_registration(self, user_name: str, library_card_number: int):\n",
    "        self.user_name = user_name\n",
    "        self.library_card_number = library_card_number\n",
    "        self.list_of_borrowed_books = []\n",
    "\n",
    "    def borrow_book(self, book: Book):\n",
    "        if book not in self.list_of_borrowed_books:\n",
    "            self.list_of_borrowed_books.append(book)\n",
    "            return True\n",
    "\n",
    "    def return_book(self, book: Book):\n",
    "        if book in self.list_of_borrowed_books:\n",
    "            self.list_of_borrowed_books.remove(book)\n",
    "            return True\n",
    "\n",
    "    def __getattr__(self, item):\n",
    "        return False\n",
    "\n",
    "\n",
    "class Library:\n",
    "    def __init__(self, list_of_books: list[Book], list_of_users: list[User],\n",
    "                 transaction_history: [(User, datetime, Book, str)]):\n",
    "        self.list_of_books = list_of_books\n",
    "        self.list_of_users = list_of_users\n",
    "        self.transaction_history = transaction_history\n",
    "\n",
    "    def add_book(self, book: Book):\n",
    "        if book not in self.list_of_books:\n",
    "            self.list_of_books.append(book)\n",
    "            return True\n",
    "\n",
    "    def remove_book(self, book: Book):\n",
    "        if book in self.list_of_books:\n",
    "            self.list_of_books.remove(book)\n",
    "            for user in self.list_of_users:\n",
    "                user.return_book(book)\n",
    "            return True\n",
    "\n",
    "    def add_user(self, user: User):\n",
    "        if user not in self.list_of_users:\n",
    "            self.list_of_users.append(user)\n",
    "            return True\n",
    "\n",
    "    def remove_user(self, user: User):\n",
    "        if user in self.list_of_users:\n",
    "            self.list_of_users.remove(user)\n",
    "            return True\n",
    "\n",
    "    def issuing(self, user: User, book: Book):\n",
    "        if user in self.list_of_users and book in self.list_of_books and book.number_of_copies > 0:\n",
    "            if user.borrow_book(book):\n",
    "                book.change_the_number_of_copies(-1)\n",
    "                self.transaction_history.append((user, datetime.now(), book, \"borrowed\"))\n",
    "                return True\n",
    "\n",
    "        self.transaction_history.append((user, datetime.now(), book, \"borrow refused\"))\n",
    "\n",
    "    def returning(self, user: User, book: Book):\n",
    "        if user in self.list_of_users and book in self.list_of_books:\n",
    "            if user.return_book(book):\n",
    "                book.change_the_number_of_copies(1)\n",
    "                self.transaction_history.append((user, datetime.now(), book, \"returned\"))\n",
    "                return True\n",
    "\n",
    "        self.transaction_history.append((user, datetime.now(), book, \"return refused\"))\n",
    "\n",
    "    def search_book(self, attr_name: str, attr_value: str | int):\n",
    "        return [book for book in self.list_of_books if getattr(book, attr_name) == attr_value]\n",
    "\n",
    "    def search_user(self, attr_name: str, attr_value: str | int):\n",
    "        return [user for user in self.list_of_users if getattr(user, attr_name) == attr_value]\n",
    "\n",
    "    def display_the_transaction_history(self):\n",
    "        for transaction in self.transaction_history:\n",
    "            print(f\"{transaction[3]} from {transaction[0].user_name} at {transaction[1]}, book: {transaction[2].title}\")\n",
    "\n",
    "\n",
    "library = Library([], [], [])\n",
    "user1 = User(\"Pechenka\", 322, [])\n",
    "user2 = User(\"Sanyok\", 1234, [])\n",
    "book1 = Book(title=\"Мой дедушка был вишней\", author=\"Анджела Нанетти\", year_of_publication=2020,\n",
    "             isbn=\"978-5-00167-015-5\", number_of_copies=2)\n",
    "book2 = Book(title=\"Человек, который принял жену за шляпу\", author=\"Сакс Оливер\", year_of_publication=2024,\n",
    "             isbn=\"978-5-17-135586-9\", number_of_copies=1)\n",
    "book3 = Book(title=\"Однорукий аплодисмент\", author=\"Энтони Бёрджесс\", year_of_publication=2002, isbn=\"5-227-01642-9\",\n",
    "             number_of_copies=0)\n",
    "\n",
    "library.add_book(book1)\n",
    "library.add_book(book2)\n",
    "library.add_book(book3)\n",
    "\n",
    "library.add_user(user1)\n",
    "library.add_user(user2)\n",
    "\n",
    "library.issuing(user1, book3)   # отказ тк книги кончились\n",
    "library.issuing(user1, book2)   # успех и он забрал последнюю книгу\n",
    "library.issuing(user2, book2)   # отказ тк книгу уже забрали\n",
    "library.issuing(user2, book1)   # успех\n",
    "library.issuing(user1, book1)   # успех\n",
    "\n",
    "library.remove_book(book1)\n",
    "library.returning(user1, book1) # отказ тк книгу удалили\n",
    "\n",
    "library.returning(user1, book2) # успешно вернул\n",
    "library.returning(user1, book3) # отказ в возврате тк он не получил эту книгу\n",
    "library.returning(user2, book2) # отказ тк книга у него нет этой книги\n",
    "library.returning(user2, book1) # отказ тк книгу удалили\n",
    "\n",
    "library.display_the_transaction_history()"
   ]
  },
  {
   "cell_type": "markdown",
   "metadata": {
    "id": "0c8zRbSIoBGl"
   },
   "source": [
    "## Problem 5*"
   ]
  },
  {
   "cell_type": "markdown",
   "metadata": {
    "id": "8ltdzRmOoBGl"
   },
   "source": [
    "Explain why list `b` changes after the execution of the following code:\n",
    "\n",
    "```python\n",
    "a = [1, 2, 3]\n",
    "b = a\n",
    "a[0] = 4\n",
    "print(b)\n",
    "```"
   ]
  },
  {
   "cell_type": "markdown",
   "metadata": {
    "id": "RxgnUfFPoBGl"
   },
   "source": [
    "> Write your answer in markdown cell after:"
   ]
  },
  {
   "cell_type": "markdown",
   "metadata": {
    "id": "Mb-amOX5oBGl"
   },
   "source": [
    "Мы изменили \"a\", в то время как \"b\" всего лишь ссылка на \"a\""
   ]
  },
  {
   "cell_type": "markdown",
   "metadata": {
    "id": "TmXLkc_foBGl"
   },
   "source": [
    "## Problem 6*"
   ]
  },
  {
   "cell_type": "markdown",
   "metadata": {
    "id": "Gn0ibiVCoBGl"
   },
   "source": [
    "Let\n",
    "$$A = \\sum_{i=1}^{10000} \\frac{1}{i^2},\\quad B=\\sum_{i=10000}^{1} \\frac{1}{i^2}.$$\n",
    "Calculate the values of $A$ and $B$ and compare them. What do you observe? Explain why this happens. What is the best way to calculate the value of $\\sum\\limits_{i=1}^{10000} \\dfrac{1}{i^2}$?"
   ]
  },
  {
   "cell_type": "code",
   "execution_count": 37,
   "metadata": {
    "id": "3q93uGqFoBGl"
   },
   "outputs": [
    {
     "name": "stdout",
     "output_type": "stream",
     "text": [
      "1.6448340718480599 1.6448340718480599 0.0\n"
     ]
    }
   ],
   "source": [
    "A=sum(1/i**2 for i in range (1,10001))\n",
    "B=sum(1/i**2 for i in range (10000,0,-1))\n",
    "print(A, B, abs(A-B))\n",
    "#A=1.6448340718480652 B=1.6448340718480596 difference=5.551115123125783e-15  //почему-то анаконда выдаёт разницу 0.0, поэтому вставляю коммент из другой среды\n",
    "#Пример ограничения точности, вызванного хранением в памяти чисел с плавающей точкой.\n",
    "#Лучше начинать вычисления с более мелких чисел"
   ]
  }
 ],
 "metadata": {
  "colab": {
   "provenance": []
  },
  "kernelspec": {
   "display_name": "Python [conda env:base] *",
   "language": "python",
   "name": "conda-base-py"
  },
  "language_info": {
   "codemirror_mode": {
    "name": "ipython",
    "version": 3
   },
   "file_extension": ".py",
   "mimetype": "text/x-python",
   "name": "python",
   "nbconvert_exporter": "python",
   "pygments_lexer": "ipython3",
   "version": "3.12.7"
  }
 },
 "nbformat": 4,
 "nbformat_minor": 4
}
